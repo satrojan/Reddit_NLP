{
 "cells": [
  {
   "cell_type": "markdown",
   "metadata": {},
   "source": [
    "  The purpose of this project is to extract and analyse data collected from Reddit using the Reddit API. For this project I collected data from the subreddits “JUSTNOMIL” and “raisedbynarcissists” The idea behind these decisions was as follows. First, the two subreddits are interesting without being vulgar, usually. This would allow me to make an interesting presentation. Secondly, the subreddits usually have large posts in the body of the text. This means that I will be able to perform analysis on more natural language and non on links to imgur or the reddit image hosting site.  Both, use random strings in their url. Finally, both subreddits have similar subscriber counts so that should mean that the data should be about even and the post counts do confirm that.\n",
    "The issue with the data is that both subreddits have a very strong individual vocabulary. I knew this entering the project but I did not realize how TIFDF would enhance that to the point that a simple linear regression would get an R score of .98.\n"
   ]
  }
 ],
 "metadata": {
  "kernelspec": {
   "display_name": "Python 3",
   "language": "python",
   "name": "python3"
  },
  "language_info": {
   "codemirror_mode": {
    "name": "ipython",
    "version": 3
   },
   "file_extension": ".py",
   "mimetype": "text/x-python",
   "name": "python",
   "nbconvert_exporter": "python",
   "pygments_lexer": "ipython3",
   "version": "3.6.5"
  }
 },
 "nbformat": 4,
 "nbformat_minor": 2
}
